{
  "nbformat": 4,
  "nbformat_minor": 0,
  "metadata": {
    "colab": {
      "provenance": [],
      "authorship_tag": "ABX9TyNH/xSjhXucpkDxZ8x45xUF",
      "include_colab_link": true
    },
    "kernelspec": {
      "name": "python3",
      "display_name": "Python 3"
    },
    "language_info": {
      "name": "python"
    }
  },
  "cells": [
    {
      "cell_type": "markdown",
      "metadata": {
        "id": "view-in-github",
        "colab_type": "text"
      },
      "source": [
        "<a href=\"https://colab.research.google.com/github/LuisOlan/PIA_INTELIGENCIA/blob/main/Algoritmo_UCS.ipynb\" target=\"_parent\"><img src=\"https://colab.research.google.com/assets/colab-badge.svg\" alt=\"Open In Colab\"/></a>"
      ]
    },
    {
      "cell_type": "code",
      "execution_count": null,
      "metadata": {
        "id": "x62RDLU3rOsS"
      },
      "outputs": [],
      "source": [
        "import heapq\n",
        "\n",
        "def uniform_cost_search(graph, start, goal):\n",
        "    # Inicializar la cola de prioridad con el nodo de inicio y el costo cero\n",
        "    queue = [(0, start)]\n",
        "    # Inicializar el diccionario de costos mínimos\n",
        "    costs = {start: 0}\n",
        "    # Inicializar el diccionario de padres\n",
        "    parents = {start: None}\n",
        "\n",
        "    while queue:\n",
        "        # Obtener el nodo con el menor costo de la cola de prioridad\n",
        "        cost, node = heapq.heappop(queue)\n",
        "\n",
        "        if node == goal:\n",
        "            # Llegamos al objetivo, reconstruir el camino y devolverlo\n",
        "            path = []\n",
        "            while node:\n",
        "                path.append(node)\n",
        "                node = parents[node]\n",
        "            return path[::-1]  # Invertir el camino encontrado\n",
        "\n",
        "        # Explorar los vecinos del nodo actual\n",
        "        for neighbor, neighbor_cost in graph[node].items():\n",
        "            new_cost = cost + neighbor_cost\n",
        "            if neighbor not in costs or new_cost < costs[neighbor]:\n",
        "                # Actualizar el costo y el padre del vecino si es menor al costo actual\n",
        "                costs[neighbor] = new_cost\n",
        "                parents[neighbor] = node\n",
        "                heapq.heappush(queue, (new_cost, neighbor))\n",
        "\n",
        "    # No se encontró un camino al objetivo\n",
        "    return None\n",
        "\n",
        "# Ejemplo de uso\n",
        "graph = {\n",
        "    'A': {'B': 1, 'C': 4},\n",
        "    'B': {'A': 1, 'D': 3},\n",
        "    'C': {'A': 4, 'D': 1},\n",
        "    'D': {'B': 3, 'C': 1, 'E': 5},\n",
        "    'E': {'D': 5}\n",
        "}\n",
        "\n",
        "start_node = 'A'\n",
        "goal_node = 'E'\n",
        "path = uniform_cost_search(graph, start_node, goal_node)\n",
        "if path:\n",
        "    print(f\"Camino encontrado: {path}\")\n",
        "else:\n",
        "    print(\"No se encontró un camino al objetivo.\")\n",
        "\n",
        "\n"
      ]
    }
  ]
}
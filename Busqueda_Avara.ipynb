{
  "nbformat": 4,
  "nbformat_minor": 0,
  "metadata": {
    "colab": {
      "provenance": [],
      "authorship_tag": "ABX9TyPrc7Dq9X3ggMzKGNJZPNYv",
      "include_colab_link": true
    },
    "kernelspec": {
      "name": "python3",
      "display_name": "Python 3"
    },
    "language_info": {
      "name": "python"
    }
  },
  "cells": [
    {
      "cell_type": "markdown",
      "metadata": {
        "id": "view-in-github",
        "colab_type": "text"
      },
      "source": [
        "<a href=\"https://colab.research.google.com/github/LuisOlan/PIA_INTELIGENCIA/blob/main/Busqueda_Avara.ipynb\" target=\"_parent\"><img src=\"https://colab.research.google.com/assets/colab-badge.svg\" alt=\"Open In Colab\"/></a>"
      ]
    },
    {
      "cell_type": "code",
      "execution_count": null,
      "metadata": {
        "id": "uYJihXCPxT3l"
      },
      "outputs": [],
      "source": [
        "import heapq\n",
        "\n",
        "def busqueda_avara(inicio, objetivo, heuristica, sucesores):\n",
        "    frontera = [(heuristica(inicio), inicio)]\n",
        "    visitados = set()\n",
        "\n",
        "    while frontera:\n",
        "        _, estado_actual = heapq.heappop(frontera)\n",
        "        visitados.add(estado_actual)\n",
        "\n",
        "        if estado_actual == objetivo:\n",
        "            return estado_actual\n",
        "\n",
        "        for sucesor in sucesores(estado_actual):\n",
        "            if sucesor not in visitados:\n",
        "                heapq.heappush(frontera, (heuristica(sucesor), sucesor))\n",
        "\n",
        "    return None\n",
        "# Ejemplo de uso del algoritmo de búsqueda ávida\n",
        "\n",
        "# Definición del problema\n",
        "inicio = 'A'\n",
        "objetivo = 'F'\n",
        "grafo = {\n",
        "    'A': [('B', 5), ('C', 3)],\n",
        "    'B': [('D', 2)],\n",
        "    'C': [('D', 4), ('E', 4)],\n",
        "    'D': [('F', 6)],\n",
        "    'E': [('F', 3)]\n",
        "}\n",
        "\n",
        "def heuristica(estado):\n",
        "    # Distancia en línea recta hasta el objetivo\n",
        "    distancias = {'A': 10, 'B': 8, 'C': 7, 'D': 5, 'E': 3, 'F': 0}\n",
        "    return distancias[estado]\n",
        "\n",
        "def sucesores(estado):\n",
        "    # Obtener los sucesores y sus costos desde el grafo\n",
        "    return grafo.get(estado, [])\n",
        "\n",
        "# Ejecutar la búsqueda ávida\n",
        "resultado = busqueda_avara(inicio, objetivo, heuristica, sucesores)\n",
        "\n",
        "if resultado:\n",
        "    print(\"Se encontró una solución:\", resultado)\n",
        "else:\n",
        "    print(\"No se encontró solución.\")\n",
        "\n",
        "\n"
      ]
    }
  ]
}
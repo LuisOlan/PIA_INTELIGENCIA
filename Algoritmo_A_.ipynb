{
  "nbformat": 4,
  "nbformat_minor": 0,
  "metadata": {
    "colab": {
      "provenance": [],
      "authorship_tag": "ABX9TyO38Z1E3Cdio/pWYN6AamPn",
      "include_colab_link": true
    },
    "kernelspec": {
      "name": "python3",
      "display_name": "Python 3"
    },
    "language_info": {
      "name": "python"
    }
  },
  "cells": [
    {
      "cell_type": "markdown",
      "metadata": {
        "id": "view-in-github",
        "colab_type": "text"
      },
      "source": [
        "<a href=\"https://colab.research.google.com/github/LuisOlan/PIA_INTELIGENCIA/blob/main/Algoritmo_A_.ipynb\" target=\"_parent\"><img src=\"https://colab.research.google.com/assets/colab-badge.svg\" alt=\"Open In Colab\"/></a>"
      ]
    },
    {
      "cell_type": "code",
      "execution_count": 3,
      "metadata": {
        "id": "-Re80SVwzJWZ"
      },
      "outputs": [],
      "source": [
        "import heapq\n",
        "\n",
        "# Definición de la clase Nodo\n",
        "class Nodo:\n",
        "    def __init__(self, estado, costo, heuristica, padre=None):\n",
        "        self.estado = estado\n",
        "        self.costo = costo\n",
        "        self.heuristica = heuristica\n",
        "        self.padre = padre\n",
        "\n",
        "    def __lt__(self, otro):\n",
        "        return (self.costo + self.heuristica) < (otro.costo + otro.heuristica)\n",
        "\n",
        "# Función de búsqueda A*\n",
        "def a_estrella(inicio, objetivo, obtener_vecinos, calcular_heuristica):\n",
        "    # Inicialización de las listas abierta y cerrada\n",
        "    abierta = []\n",
        "    cerrada = set()\n",
        "\n",
        "    # Creación del nodo inicial\n",
        "    nodo_inicial = Nodo(inicio, 0, calcular_heuristica(inicio))\n",
        "    heapq.heappush(abierta, nodo_inicial)\n",
        "\n",
        "    while abierta:\n",
        "        # Obtener el nodo con el costo más bajo de la lista abierta\n",
        "        nodo_actual = heapq.heappop(abierta)\n",
        "\n",
        "        # Verificar si hemos alcanzado el objetivo\n",
        "        if nodo_actual.estado == objetivo:\n",
        "            # Reconstruir el camino desde el nodo objetivo hasta el inicio\n",
        "            camino = []\n",
        "            while nodo_actual:\n",
        "                camino.append(nodo_actual.estado)\n",
        "                nodo_actual = nodo_actual.padre\n",
        "            camino.reverse()\n",
        "            return camino\n",
        "\n",
        "        # Agregar el nodo actual a la lista cerrada\n",
        "        cerrada.add(nodo_actual.estado)\n",
        "\n",
        "        # Obtener los vecinos del nodo actual\n",
        "        vecinos = obtener_vecinos(nodo_actual.estado)\n",
        "\n",
        "        for vecino in vecinos:\n",
        "            # Calcular el costo del vecino\n",
        "            nuevo_costo = nodo_actual.costo + 1\n",
        "\n",
        "            # Verificar si el vecino ya está en la lista cerrada\n",
        "            if vecino in cerrada:\n",
        "                continue\n",
        "\n",
        "            # Verificar si el vecino ya está en la lista abierta y si el nuevo costo es menor\n",
        "            nodo_vecino = next(\n",
        "                (nodo for nodo in abierta if nodo.estado == vecino), None\n",
        "            )\n",
        "            if nodo_vecino and nuevo_costo >= nodo_vecino.costo:\n",
        "                continue\n",
        "\n",
        "            # Calcular la heurística del vecino\n",
        "            heuristica = calcular_heuristica(vecino)\n",
        "\n",
        "            # Crear un nuevo nodo vecino y agregarlo a la lista abierta\n",
        "            nodo_vecino = Nodo(vecino, nuevo_costo, heuristica, nodo_actual)\n",
        "            heapq.heappush(abierta, nodo_vecino)\n",
        "\n",
        "    # Si no se encuentra un camino, retornar None\n",
        "    return None\n"
      ]
    }
  ]
}
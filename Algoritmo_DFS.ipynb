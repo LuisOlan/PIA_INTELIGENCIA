{
  "nbformat": 4,
  "nbformat_minor": 0,
  "metadata": {
    "colab": {
      "provenance": [],
      "authorship_tag": "ABX9TyPTUp83HXVGDH0UTxQkwlut",
      "include_colab_link": true
    },
    "kernelspec": {
      "name": "python3",
      "display_name": "Python 3"
    },
    "language_info": {
      "name": "python"
    }
  },
  "cells": [
    {
      "cell_type": "markdown",
      "metadata": {
        "id": "view-in-github",
        "colab_type": "text"
      },
      "source": [
        "<a href=\"https://colab.research.google.com/github/LuisOlan/PIA_INTELIGENCIA/blob/main/Algoritmo_DFS.ipynb\" target=\"_parent\"><img src=\"https://colab.research.google.com/assets/colab-badge.svg\" alt=\"Open In Colab\"/></a>"
      ]
    },
    {
      "cell_type": "code",
      "execution_count": 1,
      "metadata": {
        "colab": {
          "base_uri": "https://localhost:8080/"
        },
        "id": "Uu-thPcNIVSd",
        "outputId": "be900450-5a84-4a21-d371-cd88d3f35571"
      },
      "outputs": [
        {
          "output_type": "stream",
          "name": "stdout",
          "text": [
            "A\n",
            "B\n",
            "D\n",
            "E\n",
            "F\n",
            "C\n"
          ]
        }
      ],
      "source": [
        "# Implementación del algoritmo DFS (Búsqueda en profundidad)\n",
        "\n",
        "def dfs(graph, start):\n",
        "    visited = set()  # Conjunto para almacenar los nodos visitados\n",
        "    stack = [start]  # Pila para realizar el recorrido\n",
        "\n",
        "    while stack:\n",
        "        vertex = stack.pop()  # Sacar el último nodo de la pila\n",
        "\n",
        "        if vertex not in visited:\n",
        "            visited.add(vertex)\n",
        "            print(vertex)  # Puedes reemplazar el \"print\" con la acción deseada\n",
        "\n",
        "            # Agregar los nodos vecinos no visitados a la pila\n",
        "            stack.extend(graph[vertex] - visited)\n",
        "\n",
        "    # Opcionalmente, puedes devolver el conjunto de nodos visitados\n",
        "    # return visited\n",
        "\n",
        "\n",
        "# Ejemplo de uso\n",
        "graph = {\n",
        "    'A': {'B', 'C'},\n",
        "    'B': {'A', 'D', 'E'},\n",
        "    'C': {'A', 'F'},\n",
        "    'D': {'B'},\n",
        "    'E': {'B', 'F'},\n",
        "    'F': {'C', 'E'}\n",
        "}\n",
        "\n",
        "dfs(graph, 'A')\n"
      ]
    }
  ]
}
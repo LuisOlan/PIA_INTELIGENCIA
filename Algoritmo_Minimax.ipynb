{
  "nbformat": 4,
  "nbformat_minor": 0,
  "metadata": {
    "colab": {
      "provenance": [],
      "authorship_tag": "ABX9TyPqCgnLlOjNRyynP9TZAgtA",
      "include_colab_link": true
    },
    "kernelspec": {
      "name": "python3",
      "display_name": "Python 3"
    },
    "language_info": {
      "name": "python"
    }
  },
  "cells": [
    {
      "cell_type": "markdown",
      "metadata": {
        "id": "view-in-github",
        "colab_type": "text"
      },
      "source": [
        "<a href=\"https://colab.research.google.com/github/LuisOlan/PIA_INTELIGENCIA/blob/main/Algoritmo_Minimax.ipynb\" target=\"_parent\"><img src=\"https://colab.research.google.com/assets/colab-badge.svg\" alt=\"Open In Colab\"/></a>"
      ]
    },
    {
      "cell_type": "code",
      "execution_count": 4,
      "metadata": {
        "colab": {
          "base_uri": "https://localhost:8080/",
          "height": 381
        },
        "id": "5Mey33lF1Ljl",
        "outputId": "32a2b26e-8af8-4034-ccc0-7940db60af69"
      },
      "outputs": [
        {
          "output_type": "error",
          "ename": "ModuleNotFoundError",
          "evalue": "ignored",
          "traceback": [
            "\u001b[0;31m---------------------------------------------------------------------------\u001b[0m",
            "\u001b[0;31mModuleNotFoundError\u001b[0m                       Traceback (most recent call last)",
            "\u001b[0;32m<ipython-input-4-a471a45fccdd>\u001b[0m in \u001b[0;36m<cell line: 1>\u001b[0;34m()\u001b[0m\n\u001b[0;32m----> 1\u001b[0;31m \u001b[0;32mimport\u001b[0m \u001b[0mchess\u001b[0m\u001b[0;34m\u001b[0m\u001b[0;34m\u001b[0m\u001b[0m\n\u001b[0m\u001b[1;32m      2\u001b[0m \u001b[0;32mimport\u001b[0m \u001b[0mchess\u001b[0m\u001b[0;34m.\u001b[0m\u001b[0msvg\u001b[0m\u001b[0;34m\u001b[0m\u001b[0;34m\u001b[0m\u001b[0m\n\u001b[1;32m      3\u001b[0m \u001b[0;34m\u001b[0m\u001b[0m\n\u001b[1;32m      4\u001b[0m \u001b[0;32mdef\u001b[0m \u001b[0mminimax\u001b[0m\u001b[0;34m(\u001b[0m\u001b[0mboard\u001b[0m\u001b[0;34m,\u001b[0m \u001b[0mdepth\u001b[0m\u001b[0;34m,\u001b[0m \u001b[0mmaximizing_player\u001b[0m\u001b[0;34m)\u001b[0m\u001b[0;34m:\u001b[0m\u001b[0;34m\u001b[0m\u001b[0;34m\u001b[0m\u001b[0m\n\u001b[1;32m      5\u001b[0m     \u001b[0;32mif\u001b[0m \u001b[0mdepth\u001b[0m \u001b[0;34m==\u001b[0m \u001b[0;36m0\u001b[0m \u001b[0;32mor\u001b[0m \u001b[0mboard\u001b[0m\u001b[0;34m.\u001b[0m\u001b[0mis_game_over\u001b[0m\u001b[0;34m(\u001b[0m\u001b[0;34m)\u001b[0m\u001b[0;34m:\u001b[0m\u001b[0;34m\u001b[0m\u001b[0;34m\u001b[0m\u001b[0m\n",
            "\u001b[0;31mModuleNotFoundError\u001b[0m: No module named 'chess'",
            "",
            "\u001b[0;31m---------------------------------------------------------------------------\u001b[0;32m\nNOTE: If your import is failing due to a missing package, you can\nmanually install dependencies using either !pip or !apt.\n\nTo view examples of installing some common dependencies, click the\n\"Open Examples\" button below.\n\u001b[0;31m---------------------------------------------------------------------------\u001b[0m\n"
          ],
          "errorDetails": {
            "actions": [
              {
                "action": "open_url",
                "actionText": "Open Examples",
                "url": "/notebooks/snippets/importing_libraries.ipynb"
              }
            ]
          }
        }
      ],
      "source": [
        "import chess\n",
        "import chess.svg\n",
        "\n",
        "def minimax(board, depth, maximizing_player):\n",
        "    if depth == 0 or board.is_game_over():\n",
        "        return evaluate(board)\n",
        "\n",
        "    if maximizing_player:\n",
        "        max_eval = float('-inf')\n",
        "        for move in board.legal_moves:\n",
        "            board.push(move)\n",
        "            eval = minimax(board, depth - 1, False)\n",
        "            board.pop()\n",
        "            max_eval = max(max_eval, eval)\n",
        "        return max_eval\n",
        "    else:\n",
        "        min_eval = float('inf')\n",
        "        for move in board.legal_moves:\n",
        "            board.push(move)\n",
        "            eval = minimax(board, depth - 1, True)\n",
        "            board.pop()\n",
        "            min_eval = min(min_eval, eval)\n",
        "        return min_eval\n",
        "\n",
        "def evaluate(board):\n",
        "    # Evaluación simple: devuelve la diferencia de material\n",
        "    piece_values = {\n",
        "        chess.PAWN: 1,\n",
        "        chess.KNIGHT: 3,\n",
        "        chess.BISHOP: 3,\n",
        "        chess.ROOK: 5,\n",
        "        chess.QUEEN: 9,\n",
        "        chess.KING: 0  # Ignoramos al rey en la evaluación\n",
        "    }\n",
        "\n",
        "    score = 0\n",
        "    for square, piece in board.piece_map().items():\n",
        "        if piece.color == chess.WHITE:\n",
        "            score += piece_values[piece.piece_type]\n",
        "        else:\n",
        "            score -= piece_values[piece.piece_type]\n",
        "\n",
        "    return score\n",
        "\n",
        "def find_best_move(board, depth):\n",
        "    best_eval = float('-inf')\n",
        "    best_move = None\n",
        "\n",
        "    for move in board.legal_moves:\n",
        "        board.push(move)\n",
        "        eval = minimax(board, depth - 1, False)\n",
        "        board.pop()\n",
        "\n",
        "        if eval > best_eval:\n",
        "            best_eval = eval\n",
        "            best_move = move\n",
        "\n",
        "    return best_move\n",
        "\n",
        "def play():\n",
        "    board = chess.Board()\n",
        "\n",
        "    while not board.is_game_over():\n",
        "        if board.turn == chess.WHITE:\n",
        "            print(board)\n",
        "            print(\"Tu turno (blancas):\")\n",
        "            move_str = input(\"Introduce tu movimiento en formato algebraico (por ejemplo, 'e2e4'): \")\n",
        "            move = chess.Move.from_uci(move_str)\n",
        "        else:\n",
        "            print(board)\n",
        "            print(\"Turno de la IA (negras)...\")\n",
        "            move = find_best_move(board, depth=3)\n",
        "\n",
        "        board.push(move)\n",
        "\n",
        "    print(board)\n",
        "    print(\"Fin del juego\")\n",
        "    print(\"Resultado: \" + board.result())\n",
        "\n",
        "if __name__ == \"__main__\":\n",
        "    play()\n"
      ]
    }
  ]
}
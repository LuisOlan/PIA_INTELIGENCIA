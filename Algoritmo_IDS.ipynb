{
  "nbformat": 4,
  "nbformat_minor": 0,
  "metadata": {
    "colab": {
      "provenance": [],
      "authorship_tag": "ABX9TyMGzsoyjAY+URuwllp1SEAn",
      "include_colab_link": true
    },
    "kernelspec": {
      "name": "python3",
      "display_name": "Python 3"
    },
    "language_info": {
      "name": "python"
    }
  },
  "cells": [
    {
      "cell_type": "markdown",
      "metadata": {
        "id": "view-in-github",
        "colab_type": "text"
      },
      "source": [
        "<a href=\"https://colab.research.google.com/github/LuisOlan/PIA_INTELIGENCIA/blob/main/Algoritmo_IDS.ipynb\" target=\"_parent\"><img src=\"https://colab.research.google.com/assets/colab-badge.svg\" alt=\"Open In Colab\"/></a>"
      ]
    },
    {
      "cell_type": "code",
      "execution_count": null,
      "metadata": {
        "id": "PuNpaC2DbC0c"
      },
      "outputs": [],
      "source": [
        "def iterative_deepening_dfs(graph, start_node, goal_node, max_depth):\n",
        "    for depth in range(max_depth):\n",
        "        visited = set()\n",
        "        if dfs(graph, start_node, goal_node, depth, visited):\n",
        "            return True\n",
        "    return False\n",
        "\n",
        "def dfs(graph, current_node, goal_node, depth, visited):\n",
        "    if current_node == goal_node:\n",
        "        return True\n",
        "    if depth == 0:\n",
        "        return False\n",
        "    if current_node in visited:\n",
        "        return False\n",
        "\n",
        "    visited.add(current_node)\n",
        "    for neighbor in graph[current_node]:\n",
        "        if dfs(graph, neighbor, goal_node, depth - 1, visited):\n",
        "            return True\n",
        "    visited.remove(current_node)\n",
        "    return False\n",
        "\n",
        "# Ejemplo de uso\n",
        "graph = {\n",
        "    'A': ['B', 'C'],\n",
        "    'B': ['D', 'E'],\n",
        "    'C': ['F'],\n",
        "    'D': [],\n",
        "    'E': ['F'],\n",
        "    'F': []\n",
        "}\n",
        "\n",
        "start_node = 'A'\n",
        "goal_node = 'F'\n",
        "max_depth = 4\n",
        "\n",
        "found = iterative_deepening_dfs(graph, start_node, goal_node, max_depth)\n",
        "if found:\n",
        "    print(\"Se encontró un camino entre el nodo inicial y el nodo objetivo.\")\n",
        "else:\n",
        "    print(\"No se encontró un camino entre el nodo inicial y el nodo objetivo.\")\n"
      ]
    }
  ]
}
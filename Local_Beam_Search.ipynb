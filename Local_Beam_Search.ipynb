{
  "nbformat": 4,
  "nbformat_minor": 0,
  "metadata": {
    "colab": {
      "provenance": [],
      "authorship_tag": "ABX9TyPIsCGTCeB6mbtEXRsbWB32",
      "include_colab_link": true
    },
    "kernelspec": {
      "name": "python3",
      "display_name": "Python 3"
    },
    "language_info": {
      "name": "python"
    }
  },
  "cells": [
    {
      "cell_type": "markdown",
      "metadata": {
        "id": "view-in-github",
        "colab_type": "text"
      },
      "source": [
        "<a href=\"https://colab.research.google.com/github/LuisOlan/PIA_INTELIGENCIA/blob/main/Local_Beam_Search.ipynb\" target=\"_parent\"><img src=\"https://colab.research.google.com/assets/colab-badge.svg\" alt=\"Open In Colab\"/></a>"
      ]
    },
    {
      "cell_type": "code",
      "execution_count": null,
      "metadata": {
        "id": "PrgUrx1M6d0i"
      },
      "outputs": [],
      "source": [
        "import chess\n",
        "import chess.engine\n",
        "import random\n",
        "\n",
        "def evaluate_board(board):\n",
        "    # Función de evaluación para determinar la puntuación de un tablero\n",
        "    # Puedes personalizarla según tus necesidades\n",
        "    # Por ejemplo, puedes contar el número de piezas y asignar un valor a cada una\n",
        "    piece_values = {\n",
        "        chess.PAWN: 1,\n",
        "        chess.KNIGHT: 3,\n",
        "        chess.BISHOP: 3,\n",
        "        chess.ROOK: 5,\n",
        "        chess.QUEEN: 9,\n",
        "        chess.KING: 0  # El rey no tiene un valor asignado en términos de material\n",
        "    }\n",
        "    score = 0\n",
        "    for square in chess.SQUARES:\n",
        "        piece = board.piece_at(square)\n",
        "        if piece is not None:\n",
        "            if piece.color == chess.WHITE:\n",
        "                score += piece_values[piece.piece_type]\n",
        "            else:\n",
        "                score -= piece_values[piece.piece_type]\n",
        "    return score\n",
        "\n",
        "def generate_random_move(board):\n",
        "    # Genera un movimiento aleatorio válido para un tablero dado\n",
        "    legal_moves = list(board.legal_moves)\n",
        "    return random.choice(legal_moves)\n",
        "\n",
        "def local_beam_search(board, beam_width, max_iterations):\n",
        "    current_boards = [board]\n",
        "    best_score = evaluate_board(board)\n",
        "    best_move = None\n",
        "\n",
        "    for _ in range(max_iterations):\n",
        "        next_boards = []\n",
        "        for current_board in current_boards:\n",
        "            for _ in range(beam_width):\n",
        "                new_board = current_board.copy()\n",
        "                move = generate_random_move(new_board)\n",
        "                new_board.push(move)\n",
        "                score = evaluate_board(new_board)\n",
        "                if score > best_score:\n",
        "                    best_score = score\n",
        "                    best_move = move\n",
        "                next_boards.append(new_board)\n",
        "\n",
        "        current_boards = next_boards\n",
        "\n",
        "    return best_move\n",
        "\n",
        "# Ejemplo de uso\n",
        "def main():\n",
        "    board = chess.Board()\n",
        "    move = local_beam_search(board, beam_width=5, max_iterations=10)\n",
        "    print(\"Mejor movimiento encontrado:\", move)\n",
        "\n",
        "if __name__ == \"__main__\":\n",
        "    main()\n"
      ]
    }
  ]
}
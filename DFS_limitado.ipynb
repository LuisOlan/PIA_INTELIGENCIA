{
  "nbformat": 4,
  "nbformat_minor": 0,
  "metadata": {
    "colab": {
      "provenance": [],
      "authorship_tag": "ABX9TyO4uW8z4kqhBdQT+bCwve9R",
      "include_colab_link": true
    },
    "kernelspec": {
      "name": "python3",
      "display_name": "Python 3"
    },
    "language_info": {
      "name": "python"
    }
  },
  "cells": [
    {
      "cell_type": "markdown",
      "metadata": {
        "id": "view-in-github",
        "colab_type": "text"
      },
      "source": [
        "<a href=\"https://colab.research.google.com/github/LuisOlan/PIA_INTELIGENCIA/blob/main/DFS_limitado.ipynb\" target=\"_parent\"><img src=\"https://colab.research.google.com/assets/colab-badge.svg\" alt=\"Open In Colab\"/></a>"
      ]
    },
    {
      "cell_type": "code",
      "execution_count": null,
      "metadata": {
        "id": "8qS9sxt-acZ0"
      },
      "outputs": [],
      "source": [
        "# Implementación del algoritmo DFS limitado\n",
        "\n",
        "def dfs_limit(graph, start, depth_limit):\n",
        "    visited = set()  # Conjunto para almacenar los nodos visitados\n",
        "    stack = [(start, 0)]  # Pila para realizar el recorrido, junto con la profundidad\n",
        "\n",
        "    while stack:\n",
        "        vertex, depth = stack.pop()  # Sacar el último nodo y la profundidad de la pila\n",
        "\n",
        "        if vertex not in visited:\n",
        "            visited.add(vertex)\n",
        "            print(vertex)  # Puedes reemplazar el \"print\" con la acción deseada\n",
        "\n",
        "            # Verificar si se alcanzó el límite de profundidad\n",
        "            if depth < depth_limit:\n",
        "                # Agregar los nodos vecinos no visitados a la pila junto con la nueva profundidad\n",
        "                stack.extend((neighbor, depth + 1) for neighbor in graph[vertex] - visited)\n",
        "\n",
        "# Ejemplo de uso\n",
        "graph = {\n",
        "    'A': {'B', 'C'},\n",
        "    'B': {'A', 'D', 'E'},\n",
        "    'C': {'A', 'F'},\n",
        "    'D': {'B'},\n",
        "    'E': {'B', 'F'},\n",
        "    'F': {'C', 'E'}\n",
        "}\n",
        "\n",
        "dfs_limit(graph, 'A', 2)\n"
      ]
    }
  ]
}